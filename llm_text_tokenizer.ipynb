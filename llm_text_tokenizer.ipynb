{
  "nbformat": 4,
  "nbformat_minor": 0,
  "metadata": {
    "colab": {
      "provenance": [],
      "authorship_tag": "ABX9TyNFu77m6lp2/2xrGHyZY1CV",
      "include_colab_link": true
    },
    "kernelspec": {
      "name": "python3",
      "display_name": "Python 3"
    },
    "language_info": {
      "name": "python"
    }
  },
  "cells": [
    {
      "cell_type": "markdown",
      "metadata": {
        "id": "view-in-github",
        "colab_type": "text"
      },
      "source": [
        "<a href=\"https://colab.research.google.com/github/charidis/llm_text_tokenizer/blob/main/llm_text_tokenizer.ipynb\" target=\"_parent\"><img src=\"https://colab.research.google.com/assets/colab-badge.svg\" alt=\"Open In Colab\"/></a>"
      ]
    },
    {
      "cell_type": "code",
      "execution_count": 61,
      "metadata": {
        "id": "2fZGyNME4Q9-"
      },
      "outputs": [],
      "source": [
        "from importlib.metadata import version\n",
        "import urllib.request\n",
        "\n",
        "import os\n",
        "import urllib.request\n",
        "\n",
        "if not os.path.exists(\"the-verdict.txt\"):\n",
        "    url = (\"https://raw.githubusercontent.com/rasbt/\"\n",
        "           \"LLMs-from-scratch/main/ch02/01_main-chapter-code/\"\n",
        "           \"the-verdict.txt\")\n",
        "    file_path = \"the-verdict.txt\"\n",
        "    urllib.request.urlretrieve(url, file_path)\n",
        "\n",
        "with open(\"the-verdict.txt\", \"r\", encoding=\"utf-8\") as f:\n",
        "    raw_text = f.read()\n"
      ]
    },
    {
      "cell_type": "code",
      "source": [
        "import re\n",
        "# split text\n",
        "result = re.split(r'([,.:;?_!\"()\\'\\s]|--)', raw_text)\n",
        "# remove white spaces and empty arrays\n",
        "result = [item for item in result if item.strip()]"
      ],
      "metadata": {
        "id": "2-13jUpz5Ddz"
      },
      "execution_count": 62,
      "outputs": []
    },
    {
      "cell_type": "code",
      "source": [
        "all_words = sorted(set(result))\n",
        "all_words.extend(['<|unk|>', '<|endoftext|>'])\n",
        "vocab={token:integer for integer,token in enumerate(all_words)}"
      ],
      "metadata": {
        "id": "xmJ8rFmzA7rQ"
      },
      "execution_count": 79,
      "outputs": []
    },
    {
      "cell_type": "code",
      "source": [
        "class SimpleTokenizer:\n",
        "  def __init__(self,vocab):\n",
        "     self.str_to_int = vocab\n",
        "     self.int_to_str = {i:s for s, i in vocab.items()}\n",
        "\n",
        "  def encode(self,text):\n",
        "     # split text\n",
        "     result = re.split(r'([,.:;?_!\"()\\'\\s]|--)', text)\n",
        "      # remove white spaces and empty arrays\n",
        "     result = [item for item in result if item.strip()]\n",
        "     result = [item if item in self.str_to_int else \"<|unk|>\" for item in result]\n",
        "     ids=[self.str_to_int[s]for s in result]\n",
        "     return ids\n",
        "  def decode(self,ids):\n",
        "    text = \" \".join([self.int_to_str[i] for i in ids])\n",
        "    text = re.sub(r'([,.:;?_!\"()\\'\\s]|--)', r'\\1', text)\n",
        "    return text\n",
        "\n"
      ],
      "metadata": {
        "id": "lGEUwRI0D5HS"
      },
      "execution_count": 87,
      "outputs": []
    },
    {
      "cell_type": "code",
      "source": [
        "tokenizer = SimpleTokenizer(vocab)\n",
        "\n",
        "text1 = \"I can hear Mrs. Gideon Thwing--his last Chicago sitter--deploring his unaccountable abdication. \"\n",
        "text2 = \"Hello, do you like honybuns?\"\n",
        "\n",
        "text= \"<|endoftext|> \".join([text1,text2])\n",
        "\n",
        "print(tokenizer.encode(text))\n",
        "print(tokenizer.decode(tokenizer.encode(text)))"
      ],
      "metadata": {
        "colab": {
          "base_uri": "https://localhost:8080/"
        },
        "id": "C5A7ctsnXqLl",
        "outputId": "a31870b9-9628-4838-86c7-2a3ecb020115"
      },
      "execution_count": 100,
      "outputs": [
        {
          "output_type": "stream",
          "name": "stdout",
          "text": [
            "[53, 244, 535, 67, 7, 37, 100, 6, 549, 602, 25, 897, 6, 326, 549, 1042, 116, 7, 1131, 1130, 5, 355, 1126, 628, 1130, 10]\n",
            "I can hear Mrs . Gideon Thwing -- his last Chicago sitter -- deploring his unaccountable abdication . <|endoftext|> <|unk|> , do you like <|unk|> ?\n"
          ]
        }
      ]
    }
  ]
}